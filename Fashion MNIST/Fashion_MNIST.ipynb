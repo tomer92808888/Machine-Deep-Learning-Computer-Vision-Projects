{
  "nbformat": 4,
  "nbformat_minor": 0,
  "metadata": {
    "colab": {
      "name": "Fashion MNIST",
      "provenance": [],
      "collapsed_sections": []
    },
    "kernelspec": {
      "name": "python3",
      "display_name": "Python 3"
    },
    "accelerator": "GPU"
  },
  "cells": [
    {
      "cell_type": "code",
      "metadata": {
        "id": "SttN9x_mVYVc"
      },
      "source": [
        "# Install tensorflow\r\n",
        "import tensorflow as tf"
      ],
      "execution_count": 1,
      "outputs": []
    },
    {
      "cell_type": "code",
      "metadata": {
        "id": "71Xg8jy3WjWp"
      },
      "source": [
        "# Additional imports\r\n",
        "\r\n",
        "import numpy as np\r\n",
        "import matplotlib.pyplot as plt\r\n",
        "from tensorflow.keras.layers import Input, Conv2D, Dense, Flatten, Dropout\r\n",
        "from tensorflow.keras.models import Model"
      ],
      "execution_count": 2,
      "outputs": []
    },
    {
      "cell_type": "code",
      "metadata": {
        "colab": {
          "base_uri": "https://localhost:8080/"
        },
        "id": "kngeJwXEVgSC",
        "outputId": "4e49fcef-e9d9-4d08-e851-ac0d5614d028"
      },
      "source": [
        "# Load in the data\r\n",
        "(X_train, y_train), (X_test, y_test) = tf.keras.datasets.fashion_mnist.load_data()\r\n",
        "\r\n",
        "X_train, X_test = X_train / 255.0, X_test / 255.0\r\n",
        "print(\"x_train.shape:\", X_train.shape)"
      ],
      "execution_count": 3,
      "outputs": [
        {
          "output_type": "stream",
          "text": [
            "Downloading data from https://storage.googleapis.com/tensorflow/tf-keras-datasets/train-labels-idx1-ubyte.gz\n",
            "32768/29515 [=================================] - 0s 0us/step\n",
            "Downloading data from https://storage.googleapis.com/tensorflow/tf-keras-datasets/train-images-idx3-ubyte.gz\n",
            "26427392/26421880 [==============================] - 0s 0us/step\n",
            "Downloading data from https://storage.googleapis.com/tensorflow/tf-keras-datasets/t10k-labels-idx1-ubyte.gz\n",
            "8192/5148 [===============================================] - 0s 0us/step\n",
            "Downloading data from https://storage.googleapis.com/tensorflow/tf-keras-datasets/t10k-images-idx3-ubyte.gz\n",
            "4423680/4422102 [==============================] - 0s 0us/step\n",
            "x_train.shape: (60000, 28, 28)\n"
          ],
          "name": "stdout"
        }
      ]
    },
    {
      "cell_type": "code",
      "metadata": {
        "colab": {
          "base_uri": "https://localhost:8080/"
        },
        "id": "FfBNMQEWXPzO",
        "outputId": "b9c3819a-7e31-4445-b005-be2db9fa3e57"
      },
      "source": [
        "# The data is only 2D!\r\n",
        "# Convolution expects height x width x color\r\n",
        "X_train = np.expand_dims(X_train, -1)\r\n",
        "X_test = np.expand_dims(X_test, -1)\r\n",
        "print(X_train.shape)"
      ],
      "execution_count": 4,
      "outputs": [
        {
          "output_type": "stream",
          "text": [
            "(60000, 28, 28, 1)\n"
          ],
          "name": "stdout"
        }
      ]
    },
    {
      "cell_type": "code",
      "metadata": {
        "colab": {
          "base_uri": "https://localhost:8080/"
        },
        "id": "Ujsa9yVpXqHm",
        "outputId": "0e525d30-8829-4ebe-b42f-814d814937fa"
      },
      "source": [
        "# Number of classes \r\n",
        "K = len(set(y_test))\r\n",
        "print(\"Number of classes:\", K)"
      ],
      "execution_count": 5,
      "outputs": [
        {
          "output_type": "stream",
          "text": [
            "Number of classes: 10\n"
          ],
          "name": "stdout"
        }
      ]
    },
    {
      "cell_type": "code",
      "metadata": {
        "id": "rhtGpjCtX5MQ"
      },
      "source": [
        "# Build the model using the functional API\r\n",
        "i = Input(shape=X_train[0].shape)\r\n",
        "x = Conv2D(32, (3, 3), strides=2, activation='relu')(i)\r\n",
        "x = Conv2D(64, (3, 3), strides=2, activation='relu')(x)\r\n",
        "x = Conv2D(128, (3, 3), strides=2, activation='relu')(x)\r\n",
        "x = Flatten()(x)\r\n",
        "x = Dropout(0.2)(x)\r\n",
        "x = Dense(512, activation='relu')(x)\r\n",
        "x = Dropout(0.2)(x)\r\n",
        "x = Dense(K, activation='softmax')(x)\r\n",
        "\r\n",
        "model = Model(i, x)"
      ],
      "execution_count": 6,
      "outputs": []
    },
    {
      "cell_type": "code",
      "metadata": {
        "colab": {
          "base_uri": "https://localhost:8080/"
        },
        "id": "r3FiDHlQZ_Zg",
        "outputId": "92dc950b-fee0-4639-c7bc-ab16429dd109"
      },
      "source": [
        "# Compile and fit\r\n",
        "model.compile(optimizer='adam',\r\n",
        "              loss = 'sparse_categorical_crossentropy',\r\n",
        "              metrics = ['accuracy'])\r\n",
        "\r\n",
        "r = model.fit(X_train, y_train, validation_data= (X_test, y_test), epochs=15)"
      ],
      "execution_count": 7,
      "outputs": [
        {
          "output_type": "stream",
          "text": [
            "Epoch 1/15\n",
            "1875/1875 [==============================] - 16s 5ms/step - loss: 0.6986 - accuracy: 0.7439 - val_loss: 0.4169 - val_accuracy: 0.8430\n",
            "Epoch 2/15\n",
            "1875/1875 [==============================] - 9s 5ms/step - loss: 0.3730 - accuracy: 0.8613 - val_loss: 0.3335 - val_accuracy: 0.8745\n",
            "Epoch 3/15\n",
            "1875/1875 [==============================] - 10s 5ms/step - loss: 0.3186 - accuracy: 0.8789 - val_loss: 0.3325 - val_accuracy: 0.8738\n",
            "Epoch 4/15\n",
            "1875/1875 [==============================] - 10s 5ms/step - loss: 0.2799 - accuracy: 0.8947 - val_loss: 0.3238 - val_accuracy: 0.8783\n",
            "Epoch 5/15\n",
            "1875/1875 [==============================] - 9s 5ms/step - loss: 0.2523 - accuracy: 0.9033 - val_loss: 0.2999 - val_accuracy: 0.8903\n",
            "Epoch 6/15\n",
            "1875/1875 [==============================] - 9s 5ms/step - loss: 0.2327 - accuracy: 0.9104 - val_loss: 0.2957 - val_accuracy: 0.8962\n",
            "Epoch 7/15\n",
            "1875/1875 [==============================] - 9s 5ms/step - loss: 0.2073 - accuracy: 0.9207 - val_loss: 0.2965 - val_accuracy: 0.8955\n",
            "Epoch 8/15\n",
            "1875/1875 [==============================] - 9s 5ms/step - loss: 0.1952 - accuracy: 0.9262 - val_loss: 0.2924 - val_accuracy: 0.8978\n",
            "Epoch 9/15\n",
            "1875/1875 [==============================] - 9s 5ms/step - loss: 0.1801 - accuracy: 0.9319 - val_loss: 0.2961 - val_accuracy: 0.8967\n",
            "Epoch 10/15\n",
            "1875/1875 [==============================] - 9s 5ms/step - loss: 0.1730 - accuracy: 0.9336 - val_loss: 0.3102 - val_accuracy: 0.8984\n",
            "Epoch 11/15\n",
            "1875/1875 [==============================] - 9s 5ms/step - loss: 0.1521 - accuracy: 0.9424 - val_loss: 0.3209 - val_accuracy: 0.8983\n",
            "Epoch 12/15\n",
            "1875/1875 [==============================] - 9s 5ms/step - loss: 0.1476 - accuracy: 0.9447 - val_loss: 0.3238 - val_accuracy: 0.9007\n",
            "Epoch 13/15\n",
            "1875/1875 [==============================] - 9s 5ms/step - loss: 0.1364 - accuracy: 0.9476 - val_loss: 0.3368 - val_accuracy: 0.8999\n",
            "Epoch 14/15\n",
            "1875/1875 [==============================] - 9s 5ms/step - loss: 0.1246 - accuracy: 0.9522 - val_loss: 0.3758 - val_accuracy: 0.8892\n",
            "Epoch 15/15\n",
            "1875/1875 [==============================] - 9s 5ms/step - loss: 0.1287 - accuracy: 0.9505 - val_loss: 0.3522 - val_accuracy: 0.9013\n"
          ],
          "name": "stdout"
        }
      ]
    },
    {
      "cell_type": "code",
      "metadata": {
        "colab": {
          "base_uri": "https://localhost:8080/",
          "height": 282
        },
        "id": "mK8wdvZKa4mC",
        "outputId": "7e2621c7-b2df-4cb3-f7b2-042841441552"
      },
      "source": [
        "# Plot loss per iteration\r\n",
        "import matplotlib.pyplot as plt\r\n",
        "plt.plot(r.history['loss'], label='loss')\r\n",
        "plt.plot(r.history['val_loss'], label='val_loss')\r\n",
        "plt.legend()"
      ],
      "execution_count": 8,
      "outputs": [
        {
          "output_type": "execute_result",
          "data": {
            "text/plain": [
              "<matplotlib.legend.Legend at 0x7fc8e0077a58>"
            ]
          },
          "metadata": {
            "tags": []
          },
          "execution_count": 8
        },
        {
          "output_type": "display_data",
          "data": {
            "image/png": "[encoded data removed]",
            "text/plain": [
              "<Figure size 432x288 with 1 Axes>"
            ]
          },
          "metadata": {
            "tags": [],
            "needs_background": "light"
          }
        }
      ]
    },
    {
      "cell_type": "code",
      "metadata": {
        "colab": {
          "base_uri": "https://localhost:8080/",
          "height": 282
        },
        "id": "3faS1EaYa4_V",
        "outputId": "0abefdb9-a48a-43ec-de43-f11338976e9e"
      },
      "source": [
        "# Plot accuracy per iteration\r\n",
        "plt.plot(r.history['accuracy'], label='acc')\r\n",
        "plt.plot(r.history['val_accuracy'], label='val_acc')\r\n",
        "plt.legend()"
      ],
      "execution_count": 9,
      "outputs": [
        {
          "output_type": "execute_result",
          "data": {
            "text/plain": [
              "<matplotlib.legend.Legend at 0x7fc88fcea0b8>"
            ]
          },
          "metadata": {
            "tags": []
          },
          "execution_count": 9
        },
        {
          "output_type": "display_data",
          "data": {
            "image/png": "[encoded data removed]",
            "text/plain": [
              "<Figure size 432x288 with 1 Axes>"
            ]
          },
          "metadata": {
            "tags": [],
            "needs_background": "light"
          }
        }
      ]
    },
    {
      "cell_type": "code",
      "metadata": {
        "colab": {
          "base_uri": "https://localhost:8080/",
          "height": 496
        },
        "id": "P4jigM0Ba8fy",
        "outputId": "e724fa40-d6fb-43f4-a76a-bf61d40bb331"
      },
      "source": [
        "# Plot confusion matrix\r\n",
        "from sklearn.metrics import confusion_matrix\r\n",
        "import itertools\r\n",
        "\r\n",
        "def plot_confusion_matrix(cm, classes,\r\n",
        "                          normalize=False,\r\n",
        "                          title='Confusion matrix',\r\n",
        "                          cmap=plt.cm.Blues):\r\n",
        "  \"\"\"\r\n",
        "  This function prints and plots the confusion matrix.\r\n",
        "  Normalization can be applied by setting `normalize=True`.\r\n",
        "  \"\"\"\r\n",
        "  if normalize:\r\n",
        "      cm = cm.astype('float') / cm.sum(axis=1)[:, np.newaxis]\r\n",
        "      print(\"Normalized confusion matrix\")\r\n",
        "  else:\r\n",
        "      print('Confusion matrix, without normalization')\r\n",
        "\r\n",
        "  print(cm)\r\n",
        "\r\n",
        "  plt.imshow(cm, interpolation='nearest', cmap=cmap)\r\n",
        "  plt.title(title)\r\n",
        "  plt.colorbar()\r\n",
        "  tick_marks = np.arange(len(classes))\r\n",
        "  plt.xticks(tick_marks, classes, rotation=45)\r\n",
        "  plt.yticks(tick_marks, classes)\r\n",
        "\r\n",
        "  fmt = '.2f' if normalize else 'd'\r\n",
        "  thresh = cm.max() / 2.\r\n",
        "  for i, j in itertools.product(range(cm.shape[0]), range(cm.shape[1])):\r\n",
        "      plt.text(j, i, format(cm[i, j], fmt),\r\n",
        "               horizontalalignment=\"center\",\r\n",
        "               color=\"white\" if cm[i, j] > thresh else \"black\")\r\n",
        "\r\n",
        "  plt.tight_layout()\r\n",
        "  plt.ylabel('True label')\r\n",
        "  plt.xlabel('Predicted label')\r\n",
        "  plt.show()\r\n",
        "\r\n",
        "\r\n",
        "p_test = model.predict(X_test).argmax(axis=1)\r\n",
        "cm = confusion_matrix(y_test, p_test)\r\n",
        "plot_confusion_matrix(cm, list(range(10)))"
      ],
      "execution_count": 11,
      "outputs": [
        {
          "output_type": "stream",
          "text": [
            "Confusion matrix, without normalization\n",
            "[[840   3  25  11   2   3 107   0   9   0]\n",
            " [  0 980   0  11   2   0   5   0   2   0]\n",
            " [ 13   2 855   8  44   1  76   0   1   0]\n",
            " [ 10  10  16 905  27   0  31   0   1   0]\n",
            " [  0   1  50  20 830   0  97   0   2   0]\n",
            " [  0   0   0   0   0 986   1   6   1   6]\n",
            " [ 98   0  58  20  72   0 741   0  11   0]\n",
            " [  0   0   0   0   0  20   0 917   0  63]\n",
            " [  1   0   5   4   2   2   5   2 977   2]\n",
            " [  1   0   0   0   0   5   0  11   1 982]]\n"
          ],
          "name": "stdout"
        },
        {
          "output_type": "display_data",
          "data": {
            "image/png": "[encoded data removed]",
            "text/plain": [
              "<Figure size 432x288 with 2 Axes>"
            ]
          },
          "metadata": {
            "tags": [],
            "needs_background": "light"
          }
        }
      ]
    },
    {
      "cell_type": "code",
      "metadata": {
        "id": "0C3lF_Jia-Uk"
      },
      "source": [
        "# Label mapping\r\n",
        "labels = '''T-shirt/top\r\n",
        "Trouser\r\n",
        "Pullover\r\n",
        "Dress\r\n",
        "Coat\r\n",
        "Sandal\r\n",
        "Shirt\r\n",
        "Sneaker\r\n",
        "Bag\r\n",
        "Ankle boot'''.split(\"\\n\")"
      ],
      "execution_count": 12,
      "outputs": []
    },
    {
      "cell_type": "code",
      "metadata": {
        "colab": {
          "base_uri": "https://localhost:8080/",
          "height": 281
        },
        "id": "_GTJl1Z1a_tI",
        "outputId": "e6618b6f-8963-4de2-dbb1-8789ff580991"
      },
      "source": [
        "# Show some misclassified examples\r\n",
        "misclassified_idx = np.where(p_test != y_test)[0]\r\n",
        "i = np.random.choice(misclassified_idx)\r\n",
        "plt.imshow(X_test[i].reshape(28,28), cmap='gray')\r\n",
        "plt.title(\"True label: %s Predicted: %s\" % (labels[y_test[i]], labels[p_test[i]]));"
      ],
      "execution_count": 33,
      "outputs": [
        {
          "output_type": "display_data",
          "data": {
            "image/png": "[encoded data removed]",
            "text/plain": [
              "<Figure size 432x288 with 1 Axes>"
            ]
          },
          "metadata": {
            "tags": [],
            "needs_background": "light"
          }
        }
      ]
    }
  ]
}